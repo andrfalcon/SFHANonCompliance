{
 "cells": [
  {
   "cell_type": "code",
   "execution_count": 6,
   "metadata": {},
   "outputs": [],
   "source": [
    "import pandas as pd\n",
    "import numpy as np\n",
    "import seaborn as sns\n",
    "import matplotlib.pyplot as plt\n",
    "%matplotlib inline"
   ]
  },
  {
   "cell_type": "code",
   "execution_count": 11,
   "metadata": {},
   "outputs": [],
   "source": [
    "df = pd.read_csv(\"Dataset.csv\")\n",
    "df = df.drop(\"Unnamed: 0\", axis=1)\n",
    "\n",
    "economic_df = df[['Unemployed', \n",
    "                  'Government workers', \n",
    "                  'No health insurance coverage',\n",
    "                  'Families w/ income below poverty', \n",
    "                  '$200,000 or more total household income']].copy()\n",
    "social_df = df[[\"Married-couple household with children of the householder under 18 years\", \n",
    "                \"Bachelor's degree or higher\", \n",
    "                \"Residence 1 year ago in a different state\", \n",
    "                \"Residence 1 year ago abroad\", \n",
    "                \"Foreign born\"]].copy()\n",
    "housing_df = df[['Vacant housing units', \n",
    "                 'Built 1939 or earlier', \n",
    "                 'Renteroccupied', \n",
    "                 'Lacking complete plumbing facilities', \n",
    "                 'Housing units with a mortgage', \n",
    "                 'SMOCAPI 35pct. or more for housing units with a mortgage', \n",
    "                 'Mobile home', \n",
    "                 'Homeowner vacancy']].copy()\n",
    "demographic_df = df[['65 years and over', \n",
    "                     'White non-Hispanics', \n",
    "                     'Coastal County']].copy()\n",
    "\n",
    "dataframes = [[\"Economic Features:\", economic_df], \n",
    "              [\"Social Features\", social_df], \n",
    "              [\"Housing Features\", housing_df], \n",
    "              [\"Demographic Features\", demographic_df]]\n",
    "\n",
    "# View \n",
    "# for i in dataframes:\n",
    "#     print(i[0])\n",
    "#     print(i[1])"
   ]
  },
  {
   "cell_type": "code",
   "execution_count": null,
   "metadata": {},
   "outputs": [],
   "source": []
  }
 ],
 "metadata": {
  "kernelspec": {
   "display_name": "Python 3 (ipykernel)",
   "language": "python",
   "name": "python3"
  },
  "language_info": {
   "codemirror_mode": {
    "name": "ipython",
    "version": 3
   },
   "file_extension": ".py",
   "mimetype": "text/x-python",
   "name": "python",
   "nbconvert_exporter": "python",
   "pygments_lexer": "ipython3",
   "version": "3.9.16"
  }
 },
 "nbformat": 4,
 "nbformat_minor": 4
}
